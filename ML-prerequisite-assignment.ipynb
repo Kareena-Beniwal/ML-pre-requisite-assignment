{
 "cells": [
  {
   "cell_type": "markdown",
   "id": "f2ffb91a",
   "metadata": {},
   "source": [
    "# Question1"
   ]
  },
  {
   "cell_type": "markdown",
   "id": "86b458be",
   "metadata": {},
   "source": [
    "    given: (n, k) and (k, m) matrix\n",
    "\n",
    "    => The resultant matrix would have a dimension of (n, m). \n",
    "\n",
    "    Considering row to column multiplication: \n",
    "\n",
    "\n",
    "    The elements in the resulting matrix is obtained by multiplying each element of the row of the first matrix to the corresponding element from the column of the second matrix.\n",
    "\n",
    "\n",
    "## No of Multiplications:\n",
    "\n",
    "    let's say for obtaining the first element of the resultant matrix, (1) we perform multiplications equal to the no of rows in the second matrix (or say no of columns in the first matrix), and (2) we perform such multiplications for no of columns in second matrix i.e. m times to get the elements of the first row of the resultant matrix (C). \n",
    "    and (3) we have n rows in first matrix, therefore total multiplications performed => k*m*n\n",
    "\n",
    "\n",
    "## No of Additions:\n",
    "\n",
    "    for (1) we perform k-1 additions (2) m (3) n \n",
    "    => k-1 * m * n"
   ]
  },
  {
   "cell_type": "markdown",
   "id": "2f88ffe9",
   "metadata": {},
   "source": [
    "# Question2"
   ]
  },
  {
   "cell_type": "code",
   "execution_count": 7,
   "id": "2e819e95",
   "metadata": {},
   "outputs": [
    {
     "name": "stdout",
     "output_type": "stream",
     "text": [
      "time using lists of lists: 0.17755627632141113\n",
      "time using NumPy: 0.0020003318786621094\n"
     ]
    }
   ],
   "source": [
    "import time\n",
    "import numpy as np\n",
    "\n",
    "def multiplication_using_list_of_lists(a, b):\n",
    "    n = len(a)\n",
    "    k = len(a[0])\n",
    "    m = len(b[0])\n",
    "\n",
    "    result = [[0] * m for _ in range(n)]\n",
    "\n",
    "    for i in range(n):\n",
    "        for j in range(m):\n",
    "            for l in range(k):\n",
    "                result[i][j] += a[i][l] * b[l][j]\n",
    "\n",
    "    return result\n",
    "\n",
    "# Generating larger matrices to compare times\n",
    "a = np.random.rand(100, 99).tolist()\n",
    "b = np.random.rand(99, 100).tolist()\n",
    "\n",
    "# time using \"lists of lists\"\n",
    "ti = time.time()\n",
    "output_lists = multiplication_using_list_of_lists(a, b)\n",
    "tf = time.time()\n",
    "print(\"time using lists of lists:\", tf - ti)\n",
    "\n",
    "# Multiplication using NumPy\n",
    "tii = time.time()\n",
    "output_numpy = np.dot(a, b)\n",
    "tff = time.time()\n",
    "print(\"time using NumPy:\", tff - tii)\n"
   ]
  },
  {
   "cell_type": "markdown",
   "id": "827b2d1e",
   "metadata": {},
   "source": [
    "#### Reason why NumPy takes lesser time for relatively larger matrices is: \n",
    "\n",
    "    1. NumPy is a library used for working with arrays, and it is build on top of optimized, low-level libraries written in C.These libraries are highly efficient and are capable of handling matrix operations with great speed.\n",
    "\n",
    "    2. NumPy operates on entire arrays (or matrices) at once. This allows NumPy to execute operations in a more parallelized manner, further enhancing performance.\n",
    "\n",
    "    3. NumPy implements highly optimized algorithms for common numerical operations, such as matrix multiplication."
   ]
  },
  {
   "cell_type": "markdown",
   "id": "5a0fc2a3",
   "metadata": {},
   "source": [
    "# Question3"
   ]
  },
  {
   "cell_type": "code",
   "execution_count": 38,
   "id": "c95cd4d2",
   "metadata": {},
   "outputs": [
    {
     "name": "stdout",
     "output_type": "stream",
     "text": [
      "0.4573357550584013 0.4573357550584013 0.4573357550584013\n"
     ]
    }
   ],
   "source": [
    "import random\n",
    "import time\n",
    "import numpy as np\n",
    "\n",
    "n = random.randint(1, 1000)\n",
    "\n",
    "arr = [random.random() for i in range(n)]\n",
    "\n",
    "dup = arr.copy()\n",
    "\n",
    "#print(arr)\n",
    "\n",
    "def passes_median(arr, n):\n",
    "    dic = {}\n",
    "    for i in range(n):\n",
    "        dic[arr[i]]= -1\n",
    "    key =[]\n",
    "    #print(arr)\n",
    "    for i in range(n//2+1):\n",
    "        maxi = arr[0]\n",
    "        for j in range(n):\n",
    "            if maxi <= arr[j]:\n",
    "                maxi = arr[j]\n",
    "                index = j\n",
    "                \n",
    "        if (dic[maxi] != index):\n",
    "            dic[maxi] = index\n",
    "            key.append(maxi) \n",
    "            arr[index] = -1\n",
    "    if (n%2==0):\n",
    "        #print(key[-1], key[-2])\n",
    "        median = (key[-1]+key[-2])/2\n",
    "    else:\n",
    "        #print(key[-1])\n",
    "        median = key[-1]\n",
    "    #print(dic)\n",
    "    return median\n",
    "        \n",
    "def optimal_median(arr, n):\n",
    "    arr.sort()\n",
    "    #print(arr)\n",
    "    if (n%2==0):\n",
    "        #print(arr[n//2], arr[n//2-1])\n",
    "        median = (arr[n//2]+arr[n//2-1])/2\n",
    "    else:\n",
    "        #print(arr[n//2])\n",
    "        median = arr[n//2]\n",
    "    return median\n",
    "\n",
    "def numpy_median(arr, n):\n",
    "    return np.median(arr)\n",
    "#print(arr)\n",
    "#print(dic)\n",
    "\n",
    "print(passes_median(dup, n), optimal_median(arr, n), numpy_median(arr, n))"
   ]
  },
  {
   "cell_type": "code",
   "execution_count": 39,
   "id": "34d5ce6d",
   "metadata": {},
   "outputs": [
    {
     "name": "stdout",
     "output_type": "stream",
     "text": [
      "Using passes\n",
      "Average time =  108.9316748046875 +/- 10.493055476858066\n",
      "Optimal method\n",
      "Average time =  0.60082275390625 +/- 0.24088522644473975\n",
      "Numpy passes\n",
      "Average time =  1.75313720703125 +/- 0.3923906459586568\n"
     ]
    }
   ],
   "source": [
    "time_passes=[]\n",
    "time_optimal=[]\n",
    "time_numpy = []\n",
    "\n",
    "for i in range(1000):\n",
    "    n = random.randint(1, 1000)\n",
    "    arr = [random.random() for i in range(n)]\n",
    "    dup = arr.copy()\n",
    "    start = (time.time())*1000\n",
    "    med= passes_median(dup, n)\n",
    "    end = (time.time())*1000\n",
    "    time_passes.append(end-start)\n",
    "    \n",
    "    start = (time.time())*1000\n",
    "    med = optimal_median(arr, n)\n",
    "    end = (time.time())*1000\n",
    "    time_optimal.append(end-start)\n",
    "\n",
    "    start = (time.time())*1000\n",
    "    med = numpy_median(arr, n)\n",
    "    end = (time.time())*1000\n",
    "    time_numpy.append(end-start)\n",
    "    \n",
    "Meantime_passes = sum(time_passes)/100\n",
    "Meantime_optimal = sum(time_optimal)/100\n",
    "Meantime_numpy = sum(time_numpy)/100\n",
    "\n",
    "time_passes = np.array(time_passes)\n",
    "time_optimal = np.array(time_optimal)\n",
    "time_numpy = np. array(time_numpy)\n",
    "\n",
    "print(\"Using passes\")\n",
    "print(\"Average time = \", Meantime_passes, \"+/-\",np.std(time_passes)  )\n",
    "\n",
    "print(\"Optimal method\")\n",
    "print(\"Average time = \", Meantime_optimal, \"+/-\", np.std(time_optimal))\n",
    "\n",
    "print(\"Numpy passes\")\n",
    "print(\"Average time = \", Meantime_numpy, \"+/-\",np.std(time_numpy)  )"
   ]
  },
  {
   "cell_type": "markdown",
   "id": "6cf888ba",
   "metadata": {},
   "source": [
    "    We can observe that the optimal method of findind median is faster than the other mentioned menthods to find the median.\n",
    "\n",
    "    Run time of optimal method used = $O(nlogn)$\n",
    "    Run time of passes method used = $O(n^2)$"
   ]
  },
  {
   "cell_type": "markdown",
   "id": "c70b9710",
   "metadata": {},
   "source": [
    "# Question4"
   ]
  },
  {
   "attachments": {},
   "cell_type": "markdown",
   "id": "f991796b",
   "metadata": {},
   "source": [
    "given function: \n",
    "\n",
    "$$\n",
    "f(x, y)=x^2 y+y^3 \\sin (x)\n",
    "$$\n",
    "\n",
    "Partial derivative with respect to x:\n",
    "\n",
    "$$\n",
    "\\frac{\\partial f}{\\partial x}=2 x y-y^3 \\cos (x)\n",
    "$$\n",
    "\n",
    "Partial derivative with respect to y:\n",
    "\n",
    "$$\n",
    "\\frac{\\partial f}{\\partial y}=x^2+3 y^2 \\sin (x)\n",
    "$$\n",
    "\n",
    "gradient of the function with respect to x and y is the following vector:\n",
    "\n",
    "$$\n",
    "\\nabla f=\\left(\\frac{\\partial f}{\\partial x}, \\frac{\\partial f}{\\partial y}\\right)=\\left(2 x y-y^3 \\cos (x), x^2+3 y^2 \\sin (x)\\right)\n",
    "$$"
   ]
  },
  {
   "cell_type": "code",
   "execution_count": 9,
   "id": "32b47576",
   "metadata": {},
   "outputs": [
    {
     "name": "stdout",
     "output_type": "stream",
     "text": [
      "Collecting jax\n",
      "  Downloading jax-0.4.23-py3-none-any.whl.metadata (24 kB)\n",
      "Requirement already satisfied: ml-dtypes>=0.2.0 in c:\\esd\\python\\lib\\site-packages (from jax) (0.2.0)\n",
      "Requirement already satisfied: numpy>=1.22 in c:\\esd\\python\\lib\\site-packages (from jax) (1.26.2)\n",
      "Requirement already satisfied: opt-einsum in c:\\esd\\python\\lib\\site-packages (from jax) (3.3.0)\n",
      "Requirement already satisfied: scipy>=1.9 in c:\\esd\\python\\lib\\site-packages (from jax) (1.11.3)\n",
      "Downloading jax-0.4.23-py3-none-any.whl (1.7 MB)\n",
      "   ---------------------------------------- 0.0/1.7 MB ? eta -:--:--\n",
      "   - -------------------------------------- 0.1/1.7 MB 1.1 MB/s eta 0:00:02\n",
      "   ---- ----------------------------------- 0.2/1.7 MB 2.0 MB/s eta 0:00:01\n",
      "   ----------- ---------------------------- 0.5/1.7 MB 3.3 MB/s eta 0:00:01\n",
      "   ----------------------- ---------------- 1.0/1.7 MB 5.4 MB/s eta 0:00:01\n",
      "   ---------------------------------------  1.7/1.7 MB 7.3 MB/s eta 0:00:01\n",
      "   ---------------------------------------- 1.7/1.7 MB 6.1 MB/s eta 0:00:00\n",
      "Installing collected packages: jax\n",
      "Successfully installed jax-0.4.23\n"
     ]
    },
    {
     "name": "stderr",
     "output_type": "stream",
     "text": [
      "\n",
      "[notice] A new release of pip is available: 23.3.1 -> 23.3.2\n",
      "[notice] To update, run: python.exe -m pip install --upgrade pip\n"
     ]
    }
   ],
   "source": [
    "!pip install jax"
   ]
  },
  {
   "cell_type": "code",
   "execution_count": 11,
   "id": "16cae5e0",
   "metadata": {},
   "outputs": [
    {
     "name": "stdout",
     "output_type": "stream",
     "text": [
      "Requirement already satisfied: jax in c:\\esd\\python\\lib\\site-packages (0.4.23)\n",
      "Collecting jaxlib\n",
      "  Downloading jaxlib-0.4.23-cp310-cp310-win_amd64.whl.metadata (2.1 kB)\n",
      "Requirement already satisfied: ml-dtypes>=0.2.0 in c:\\esd\\python\\lib\\site-packages (from jax) (0.2.0)\n",
      "Requirement already satisfied: numpy>=1.22 in c:\\esd\\python\\lib\\site-packages (from jax) (1.26.2)\n",
      "Requirement already satisfied: opt-einsum in c:\\esd\\python\\lib\\site-packages (from jax) (3.3.0)\n",
      "Requirement already satisfied: scipy>=1.9 in c:\\esd\\python\\lib\\site-packages (from jax) (1.11.3)\n",
      "Downloading jaxlib-0.4.23-cp310-cp310-win_amd64.whl (46.0 MB)\n",
      "   ---------------------------------------- 0.0/46.0 MB ? eta -:--:--\n",
      "   ---------------------------------------- 0.0/46.0 MB 1.3 MB/s eta 0:00:36\n",
      "   ---------------------------------------- 0.2/46.0 MB 2.0 MB/s eta 0:00:24\n",
      "   ---------------------------------------- 0.5/46.0 MB 3.5 MB/s eta 0:00:13\n",
      "    --------------------------------------- 1.0/46.0 MB 5.5 MB/s eta 0:00:09\n",
      "   - -------------------------------------- 1.6/46.0 MB 7.1 MB/s eta 0:00:07\n",
      "   - -------------------------------------- 2.2/46.0 MB 8.0 MB/s eta 0:00:06\n",
      "   -- ------------------------------------- 3.1/46.0 MB 10.4 MB/s eta 0:00:05\n",
      "   --- ------------------------------------ 3.7/46.0 MB 10.8 MB/s eta 0:00:04\n",
      "   ---- ----------------------------------- 4.8/46.0 MB 12.1 MB/s eta 0:00:04\n",
      "   ----- ---------------------------------- 5.8/46.0 MB 13.3 MB/s eta 0:00:04\n",
      "   ----- ---------------------------------- 6.7/46.0 MB 13.8 MB/s eta 0:00:03\n",
      "   ------ --------------------------------- 8.0/46.0 MB 15.1 MB/s eta 0:00:03\n",
      "   -------- ------------------------------- 9.6/46.0 MB 16.6 MB/s eta 0:00:03\n",
      "   --------- ------------------------------ 10.9/46.0 MB 21.8 MB/s eta 0:00:02\n",
      "   ---------- ----------------------------- 12.3/46.0 MB 24.2 MB/s eta 0:00:02\n",
      "   ------------ --------------------------- 13.8/46.0 MB 27.3 MB/s eta 0:00:02\n",
      "   ------------- -------------------------- 15.1/46.0 MB 28.4 MB/s eta 0:00:02\n",
      "   ------------- -------------------------- 15.6/46.0 MB 28.5 MB/s eta 0:00:02\n",
      "   --------------- ------------------------ 17.9/46.0 MB 29.8 MB/s eta 0:00:01\n",
      "   ----------------- ---------------------- 19.6/46.0 MB 31.2 MB/s eta 0:00:01\n",
      "   ------------------ --------------------- 21.2/46.0 MB 32.8 MB/s eta 0:00:01\n",
      "   ------------------- -------------------- 22.7/46.0 MB 32.8 MB/s eta 0:00:01\n",
      "   --------------------- ------------------ 24.5/46.0 MB 34.4 MB/s eta 0:00:01\n",
      "   ---------------------- ----------------- 25.4/46.0 MB 31.2 MB/s eta 0:00:01\n",
      "   ----------------------- ---------------- 27.1/46.0 MB 32.8 MB/s eta 0:00:01\n",
      "   ------------------------ --------------- 28.7/46.0 MB 31.2 MB/s eta 0:00:01\n",
      "   ------------------------- -------------- 29.7/46.0 MB 29.7 MB/s eta 0:00:01\n",
      "   -------------------------- ------------- 30.6/46.0 MB 28.5 MB/s eta 0:00:01\n",
      "   --------------------------- ------------ 31.6/46.0 MB 26.2 MB/s eta 0:00:01\n",
      "   ---------------------------- ----------- 33.3/46.0 MB 27.3 MB/s eta 0:00:01\n",
      "   ------------------------------ --------- 34.9/46.0 MB 29.7 MB/s eta 0:00:01\n",
      "   ------------------------------- -------- 36.5/46.0 MB 28.5 MB/s eta 0:00:01\n",
      "   -------------------------------- ------- 36.9/46.0 MB 26.2 MB/s eta 0:00:01\n",
      "   --------------------------------- ------ 39.0/46.0 MB 27.3 MB/s eta 0:00:01\n",
      "   ----------------------------------- ---- 40.6/46.0 MB 28.5 MB/s eta 0:00:01\n",
      "   ------------------------------------ --- 42.3/46.0 MB 32.7 MB/s eta 0:00:01\n",
      "   -------------------------------------- - 43.9/46.0 MB 32.7 MB/s eta 0:00:01\n",
      "   ---------------------------------------  45.6/46.0 MB 32.7 MB/s eta 0:00:01\n",
      "   ---------------------------------------  46.0/46.0 MB 34.4 MB/s eta 0:00:01\n",
      "   ---------------------------------------  46.0/46.0 MB 34.4 MB/s eta 0:00:01\n",
      "   ---------------------------------------  46.0/46.0 MB 34.4 MB/s eta 0:00:01\n",
      "   ---------------------------------------- 46.0/46.0 MB 21.1 MB/s eta 0:00:00\n",
      "Installing collected packages: jaxlib\n",
      "Successfully installed jaxlib-0.4.23\n",
      "Note: you may need to restart the kernel to use updated packages.\n"
     ]
    },
    {
     "name": "stderr",
     "output_type": "stream",
     "text": [
      "\n",
      "[notice] A new release of pip is available: 23.3.1 -> 23.3.2\n",
      "[notice] To update, run: python.exe -m pip install --upgrade pip\n"
     ]
    }
   ],
   "source": [
    "pip install jax jaxlib"
   ]
  },
  {
   "cell_type": "code",
   "execution_count": 18,
   "id": "309b3aa8",
   "metadata": {},
   "outputs": [
    {
     "name": "stdout",
     "output_type": "stream",
     "text": [
      "Collecting autograd\n",
      "  Downloading autograd-1.6.2-py3-none-any.whl.metadata (706 bytes)\n",
      "Requirement already satisfied: numpy>=1.12 in c:\\esd\\python\\lib\\site-packages (from autograd) (1.26.2)\n",
      "Collecting future>=0.15.2 (from autograd)\n",
      "  Downloading future-0.18.3.tar.gz (840 kB)\n",
      "     ---------------------------------------- 0.0/840.9 kB ? eta -:--:--\n",
      "     -- ------------------------------------ 61.4/840.9 kB 1.1 MB/s eta 0:00:01\n",
      "     -------- ----------------------------- 194.6/840.9 kB 2.0 MB/s eta 0:00:01\n",
      "     ---------------- --------------------- 368.6/840.9 kB 2.9 MB/s eta 0:00:01\n",
      "     ----------------------------- -------- 645.1/840.9 kB 3.4 MB/s eta 0:00:01\n",
      "     -------------------------------------  839.7/840.9 kB 4.1 MB/s eta 0:00:01\n",
      "     -------------------------------------- 840.9/840.9 kB 3.3 MB/s eta 0:00:00\n",
      "  Preparing metadata (setup.py): started\n",
      "  Preparing metadata (setup.py): finished with status 'done'\n",
      "Downloading autograd-1.6.2-py3-none-any.whl (49 kB)\n",
      "   ---------------------------------------- 0.0/49.3 kB ? eta -:--:--\n",
      "   ---------------------------------------- 49.3/49.3 kB 2.4 MB/s eta 0:00:00\n",
      "Building wheels for collected packages: future\n",
      "  Building wheel for future (setup.py): started\n",
      "  Building wheel for future (setup.py): finished with status 'done'\n",
      "  Created wheel for future: filename=future-0.18.3-py3-none-any.whl size=492053 sha256=f428df3590867a7594a51a89ae969035693744ede767b5a010e1c6d8fd65c16e\n",
      "  Stored in directory: c:\\users\\karee\\appdata\\local\\pip\\cache\\wheels\\5e\\a9\\47\\f118e66afd12240e4662752cc22cefae5d97275623aa8ef57d\n",
      "Successfully built future\n",
      "Installing collected packages: future, autograd\n",
      "Successfully installed autograd-1.6.2 future-0.18.3\n",
      "Note: you may need to restart the kernel to use updated packages.\n"
     ]
    },
    {
     "name": "stderr",
     "output_type": "stream",
     "text": [
      "\n",
      "[notice] A new release of pip is available: 23.3.1 -> 23.3.2\n",
      "[notice] To update, run: python.exe -m pip install --upgrade pip\n"
     ]
    }
   ],
   "source": [
    "pip install autograd"
   ]
  },
  {
   "cell_type": "code",
   "execution_count": 19,
   "id": "24994c94",
   "metadata": {},
   "outputs": [
    {
     "name": "stdout",
     "output_type": "stream",
     "text": [
      "Manual\n",
      "Gradient w.r.t x = 0.25785389988524104 Gradient w.r.t y = 0.1740385439731471\n",
      "Autograd\n",
      "Gradient w.r.t x = 0.25785389988524104 Gradient w.r.t y = 0.1740385439731471\n"
     ]
    }
   ],
   "source": [
    "import random\n",
    "import autograd.numpy as np\n",
    "from autograd import grad\n",
    "\n",
    "def x_grad(x, y):\n",
    "    return 2 * x * y + (y**3) * np.cos(x)\n",
    "\n",
    "def y_grad(x, y):\n",
    "    return (x**2) + 3 * (y**2) * np.sin(x)\n",
    "\n",
    "def function(x, y):\n",
    "    return (x**2) * y + (y**3) * np.sin(x)\n",
    "\n",
    "grad_function = grad(function, argnum=(0, 1))\n",
    "\n",
    "x = random.random()\n",
    "y = random.random()\n",
    "\n",
    "gradx_manual = x_grad(x, y)\n",
    "grady_manual = y_grad(x, y)\n",
    "\n",
    "print(\"Manual\")\n",
    "print(\"Gradient w.r.t x =\", gradx_manual, \"Gradient w.r.t y =\", grady_manual)\n",
    "\n",
    "print(\"Autograd\")\n",
    "print(\"Gradient w.r.t x =\", grad_function(x, y)[0], \"Gradient w.r.t y =\", grad_function(x, y)[1])"
   ]
  },
  {
   "cell_type": "markdown",
   "id": "a97a0946",
   "metadata": {},
   "source": [
    "# Question6"
   ]
  },
  {
   "cell_type": "code",
   "execution_count": 20,
   "id": "72047c98",
   "metadata": {},
   "outputs": [
    {
     "name": "stdout",
     "output_type": "stream",
     "text": [
      "Requirement already satisfied: sympy in c:\\esd\\python\\lib\\site-packages (1.12)\n",
      "Requirement already satisfied: mpmath>=0.19 in c:\\esd\\python\\lib\\site-packages (from sympy) (1.3.0)\n"
     ]
    },
    {
     "name": "stderr",
     "output_type": "stream",
     "text": [
      "\n",
      "[notice] A new release of pip is available: 23.3.1 -> 23.3.2\n",
      "[notice] To update, run: python.exe -m pip install --upgrade pip\n"
     ]
    }
   ],
   "source": [
    "!pip install sympy"
   ]
  },
  {
   "cell_type": "code",
   "execution_count": 21,
   "id": "e05537bb",
   "metadata": {},
   "outputs": [
    {
     "name": "stdout",
     "output_type": "stream",
     "text": [
      "x gradient =  2*x*y + y**3*cos(x)\n",
      "y gradient =  x**2 + 3*y**2*sin(x)\n"
     ]
    }
   ],
   "source": [
    "import numpy as np\n",
    "\n",
    "import sympy as sp\n",
    "x, y = sp.symbols('x, y')\n",
    "f = (x**2)*y + (y**3)*(sp.sin(x))\n",
    "print(\"x gradient = \", sp.diff(f, x))\n",
    "print(\"y gradient = \", sp.diff(f, y))"
   ]
  },
  {
   "cell_type": "markdown",
   "id": "a9fb23fb",
   "metadata": {},
   "source": [
    "# Question7"
   ]
  },
  {
   "cell_type": "code",
   "execution_count": 23,
   "id": "2636d056",
   "metadata": {},
   "outputs": [
    {
     "name": "stdout",
     "output_type": "stream",
     "text": [
      "{2022: {'Branch 1': {'Roll Number': 100, 'Name': 'std1', 'Marks': {'Maths': 78, 'English': 66}}, 'Branch 2': {'Roll Number': 101, 'Name': 'std1', 'Marks': {'Maths': 90, 'English': 56}}}, 2023: {'Branch 1': {'Roll Number': 102, 'Name': 'std1', 'Marks': {'Maths': 36, 'English': 98}}, 'Branch 2': {'Roll Number': 103, 'Name': 'std2', 'Marks': {'Maths': 70, 'English': 67}}}, 2024: {'Branch 1': {'Roll Number': 104, 'Name': 'std3', 'Marks': {'Maths': 84, 'English': 88}}, 'Branch 2': {'Roll Number': 105, 'Name': 'std4', 'Marks': {'Maths': 97, 'English': 97}}}, 2025: {'Branch 1': {'Roll Number': 106, 'Name': 'std5', 'Marks': {'Maths': 88, 'English': 79}}, 'Branch 2': {'Roll Number': 107, 'Name': 'std6', 'Marks': {'Maths': 75, 'English': 85}}}}\n"
     ]
    }
   ],
   "source": [
    "Student_info = {2022:{\"Branch 1\":{\"Roll Number\": 100, \n",
    "                                  \"Name\":\"std1\",  \n",
    "                                  \"Marks\":{\"Maths\": 78, \"English\": 66} }, \n",
    "                      \"Branch 2\":{\"Roll Number\": 101, \n",
    "                                  \"Name\":\"std1\",  \n",
    "                                  \"Marks\":{\"Maths\": 90, \"English\": 56} }}, \n",
    "                \n",
    "               2023: {\"Branch 1\":{\"Roll Number\": 102, \n",
    "                                  \"Name\":\"std1\",  \n",
    "                                  \"Marks\":{\"Maths\": 36, \"English\": 98} }, \n",
    "                      \"Branch 2\":{\"Roll Number\": 103, \n",
    "                                  \"Name\":\"std2\",  \n",
    "                                  \"Marks\":{\"Maths\": 70, \"English\": 67} }},\n",
    "                \n",
    "               2024: {\"Branch 1\":{\"Roll Number\": 104, \n",
    "                                  \"Name\":\"std3\",  \n",
    "                                  \"Marks\":{\"Maths\": 84, \"English\": 88} }, \n",
    "                      \"Branch 2\":{\"Roll Number\": 105, \n",
    "                                  \"Name\":\"std4\",  \n",
    "                                  \"Marks\":{\"Maths\": 97, \"English\": 97} }}, \n",
    "                \n",
    "               2025: {\"Branch 1\":{\"Roll Number\": 106, \n",
    "                                  \"Name\":\"std5\",  \n",
    "                                  \"Marks\":{\"Maths\": 88, \"English\": 79} }, \n",
    "                      \"Branch 2\":{\"Roll Number\": 107, \n",
    "                                  \"Name\":\"std6\",  \n",
    "                                  \"Marks\":{\"Maths\": 75, \"English\": 85} }}}\n",
    "\n",
    "print(Student_info)"
   ]
  },
  {
   "cell_type": "markdown",
   "id": "cf3ec4f8",
   "metadata": {},
   "source": [
    "# Question8"
   ]
  },
  {
   "cell_type": "code",
   "execution_count": 24,
   "id": "f338d56e",
   "metadata": {},
   "outputs": [],
   "source": [
    "class year:\n",
    "  def __init__(self, years, branch):\n",
    "    self.years= years\n",
    "    self.branch = branch\n",
    "\n",
    "class Branch:\n",
    "  def __init__(self, branch, student_data):\n",
    "    self.branch = branch\n",
    "    self.student_data = student_data\n",
    "\n",
    "class Data:\n",
    "  def __init__(self, Roll_num, Name, Marks):\n",
    "    self.Roll_num = Roll_num\n",
    "    self.Name = Name\n",
    "    self.Marks= Marks\n",
    "\n",
    "\n",
    "Database = [year(2022, [Branch(\"Branch 1\", [Data(100, \"cat1\", {\"Eng\": 86, \"Social\": 65})]), Branch(\"Branch 2\", [Data(101, \"dog1\", {\"Eng\": 76, \"Social\": 65})])]), \n",
    "            year(2023, [Branch(\"Branch 1\", [Data(102, \"cat2\", {\"Eng\": 89, \"Social\": 93})]), Branch(\"Branch 2\", [Data(103, \"dog2\", {\"Eng\": 84, \"Social\": 83})])]),\n",
    "            year(2024, [Branch(\"Branch 1\", [Data(104, \"cat3\", {\"Eng\": 23, \"Social\": 67})]), Branch(\"Branch 2\", [Data(105, \"dog3\", {\"Eng\": 73, \"Social\": 65})])]),\n",
    "            year(2025, [Branch(\"Branch 1\", [Data(106, \"cat4\", {\"Eng\": 84, \"Social\": 82})]), Branch(\"Branch 2\", [Data(107, \"dog4\", {\"Eng\": 56, \"Social\": 85})])]),\n",
    "            year(2026, [Branch(\"Branch 1\", [Data(108, \"cat5\", {\"Eng\": 90, \"Social\": 63})]), Branch(\"Branch 2\", [Data(109, \"dog5\", {\"Eng\": 74, \"Social\": 87})])])]"
   ]
  },
  {
   "cell_type": "markdown",
   "id": "dbed8e0f",
   "metadata": {},
   "source": [
    "# Question9"
   ]
  },
  {
   "cell_type": "code",
   "execution_count": 25,
   "id": "b5e11106",
   "metadata": {},
   "outputs": [
    {
     "name": "stdout",
     "output_type": "stream",
     "text": [
      "1\n"
     ]
    },
    {
     "data": {
      "text/plain": [
       "[<matplotlib.lines.Line2D at 0x216049f7490>]"
      ]
     },
     "execution_count": 25,
     "metadata": {},
     "output_type": "execute_result"
    },
    {
     "data": {
      "image/png": "[encoded data removed]",
      "text/plain": [
       "<Figure size 640x480 with 1 Axes>"
      ]
     },
     "metadata": {},
     "output_type": "display_data"
    }
   ],
   "source": [
    "import numpy as np\n",
    "from matplotlib import pyplot as plt\n",
    "\n",
    "x = np.arange(0.5, 100, 0.5)\n",
    "\n",
    "#1 \n",
    "print(\"1\")\n",
    "\n",
    "y = x\n",
    "\n",
    "plt.plot(y)"
   ]
  },
  {
   "cell_type": "code",
   "execution_count": 26,
   "id": "1946d88d",
   "metadata": {},
   "outputs": [
    {
     "name": "stdout",
     "output_type": "stream",
     "text": [
      "2\n"
     ]
    },
    {
     "data": {
      "text/plain": [
       "[<matplotlib.lines.Line2D at 0x21604c7d1b0>]"
      ]
     },
     "execution_count": 26,
     "metadata": {},
     "output_type": "execute_result"
    },
    {
     "data": {
      "image/png": "[encoded data removed]",
      "text/plain": [
       "<Figure size 640x480 with 1 Axes>"
      ]
     },
     "metadata": {},
     "output_type": "display_data"
    }
   ],
   "source": [
    "#2 \n",
    "print(\"2\")\n",
    "\n",
    "y = x*x\n",
    "\n",
    "plt.plot(y)"
   ]
  },
  {
   "cell_type": "code",
   "execution_count": 27,
   "id": "7541ab3b",
   "metadata": {},
   "outputs": [
    {
     "name": "stdout",
     "output_type": "stream",
     "text": [
      "3\n"
     ]
    },
    {
     "data": {
      "text/plain": [
       "[<matplotlib.lines.Line2D at 0x21604ad0490>]"
      ]
     },
     "execution_count": 27,
     "metadata": {},
     "output_type": "execute_result"
    },
    {
     "data": {
      "image/png": "[encoded data removed]",
      "text/plain": [
       "<Figure size 640x480 with 1 Axes>"
      ]
     },
     "metadata": {},
     "output_type": "display_data"
    }
   ],
   "source": [
    "#3 \n",
    "print(\"3\")\n",
    "\n",
    "y = (x**3)/100\n",
    "\n",
    "plt.plot(y)"
   ]
  },
  {
   "cell_type": "code",
   "execution_count": 28,
   "id": "6949255b",
   "metadata": {},
   "outputs": [
    {
     "name": "stdout",
     "output_type": "stream",
     "text": [
      "4\n"
     ]
    },
    {
     "data": {
      "text/plain": [
       "[<matplotlib.lines.Line2D at 0x21604b2b0a0>]"
      ]
     },
     "execution_count": 28,
     "metadata": {},
     "output_type": "execute_result"
    },
    {
     "data": {
      "image/png": "[encoded data removed]",
      "text/plain": [
       "<Figure size 640x480 with 1 Axes>"
      ]
     },
     "metadata": {},
     "output_type": "display_data"
    }
   ],
   "source": [
    "#4 \n",
    "print(\"4\")\n",
    "\n",
    "y = np.sin(x)\n",
    "\n",
    "plt.plot(y)"
   ]
  },
  {
   "cell_type": "code",
   "execution_count": 29,
   "id": "4d0700f5",
   "metadata": {},
   "outputs": [
    {
     "name": "stdout",
     "output_type": "stream",
     "text": [
      "5\n"
     ]
    },
    {
     "data": {
      "text/plain": [
       "[<matplotlib.lines.Line2D at 0x21604a64640>]"
      ]
     },
     "execution_count": 29,
     "metadata": {},
     "output_type": "execute_result"
    },
    {
     "data": {
      "image/png": "[encoded data removed]",
      "text/plain": [
       "<Figure size 640x480 with 1 Axes>"
      ]
     },
     "metadata": {},
     "output_type": "display_data"
    }
   ],
   "source": [
    "#5\n",
    "print(\"5\")\n",
    "\n",
    "y = y/x\n",
    "\n",
    "plt.plot(y)"
   ]
  },
  {
   "cell_type": "code",
   "execution_count": 30,
   "id": "f26b40e6",
   "metadata": {},
   "outputs": [
    {
     "name": "stdout",
     "output_type": "stream",
     "text": [
      "6\n"
     ]
    },
    {
     "data": {
      "text/plain": [
       "[<matplotlib.lines.Line2D at 0x21604d7af50>]"
      ]
     },
     "execution_count": 30,
     "metadata": {},
     "output_type": "execute_result"
    },
    {
     "data": {
      "image/png": "[encoded data removed]",
      "text/plain": [
       "<Figure size 640x480 with 1 Axes>"
      ]
     },
     "metadata": {},
     "output_type": "display_data"
    }
   ],
   "source": [
    "#6\n",
    "print(\"6\")\n",
    "\n",
    "y = np.log(x)\n",
    "\n",
    "plt.plot(y)"
   ]
  },
  {
   "cell_type": "code",
   "execution_count": 31,
   "id": "02564405",
   "metadata": {},
   "outputs": [
    {
     "name": "stdout",
     "output_type": "stream",
     "text": [
      "7\n"
     ]
    },
    {
     "data": {
      "text/plain": [
       "[<matplotlib.lines.Line2D at 0x21604e11000>]"
      ]
     },
     "execution_count": 31,
     "metadata": {},
     "output_type": "execute_result"
    },
    {
     "data": {
      "image/png": "[encoded data removed]",
      "text/plain": [
       "<Figure size 640x480 with 1 Axes>"
      ]
     },
     "metadata": {},
     "output_type": "display_data"
    }
   ],
   "source": [
    "#7\n",
    "print(\"7\")\n",
    "\n",
    "y = np.exp(x)\n",
    "\n",
    "plt.plot(y)"
   ]
  },
  {
   "cell_type": "markdown",
   "id": "b8a6cf4e",
   "metadata": {},
   "source": [
    "# Question10"
   ]
  },
  {
   "cell_type": "code",
   "execution_count": 32,
   "id": "7273aaf1",
   "metadata": {},
   "outputs": [
    {
     "name": "stdout",
     "output_type": "stream",
     "text": [
      "           a         b         c         d         e\n",
      "0   1.819470  1.789512  1.657103  1.619294  1.576077\n",
      "1   1.231737  1.942329  1.958314  1.457695  1.025873\n",
      "2   1.265548  1.128507  1.577332  1.819396  1.822422\n",
      "3   1.694142  1.100114  1.996094  1.926917  1.371393\n",
      "4   1.844042  1.704020  1.285905  1.126911  1.757285\n",
      "5   1.449821  1.754739  1.250576  1.561450  1.817621\n",
      "6   1.721080  1.800024  1.914901  1.111252  1.175422\n",
      "7   1.793952  1.763580  1.653706  1.263177  1.482847\n",
      "8   1.855037  1.073728  1.191612  1.864446  1.287167\n",
      "9   1.797925  1.970767  1.431909  1.280554  1.193439\n",
      "10  1.835966  1.217388  1.850225  1.332895  1.637566\n",
      "11  1.449743  1.922353  1.253629  1.405973  1.608333\n",
      "12  1.347112  1.884849  1.536919  1.775684  1.819447\n",
      "13  1.983798  1.544557  1.445549  1.355980  1.931941\n",
      "14  1.466927  1.422469  1.043458  1.369723  1.988396\n",
      "15  1.602519  1.655490  1.727710  1.732367  1.450213\n",
      "16  1.956581  1.785426  1.702512  1.533328  1.223619\n",
      "17  1.452669  1.007549  1.896349  1.243922  1.559731\n",
      "18  1.939316  1.501221  1.131022  1.627210  1.650587\n",
      "19  1.250189  1.528455  1.632620  1.865725  1.118523\n",
      "[0.24576416210472046, 0.3080570062456879, 0.28508734392471374, 0.24987992562205188, 0.2792069876341341]\n",
      "0.3080570062456879\n",
      "Column with highest standard deviation is  b  and highest standard deviation is 0.3080570062456879\n",
      "Row with least mean is  17  and the least mean is  1.432043793740834\n"
     ]
    }
   ],
   "source": [
    "import pandas as pd\n",
    "m = 20\n",
    "n = 5\n",
    "\n",
    "Col_name= [\"a\", \"b\", \"c\", \"d\", \"e\"]\n",
    "Matrix = np.random.uniform(1, 2, size= (m, n))\n",
    "\n",
    "\n",
    "\n",
    "#print(Matrix)\n",
    "\n",
    "df = pd.DataFrame(Matrix, columns= [\"a\", \"b\", \"c\", \"d\", \"e\"])\n",
    "\n",
    "print(df)\n",
    "\n",
    "#standard deviation\n",
    "sd = []\n",
    "for i in range(n):\n",
    "    column =[]\n",
    "    for j in range(m):\n",
    "        column.append(Matrix[j][i])\n",
    "    column = np.array(column)\n",
    "    sd. append(np.std(column))\n",
    "    \n",
    "print(sd)\n",
    "sd = list(sd)\n",
    "max_sd = max(sd)\n",
    "\n",
    "print(max_sd)\n",
    "for i in range(n):\n",
    "    if (max_sd==sd[i]):\n",
    "        index_sd = i\n",
    "        break\n",
    "\n",
    "print(\"Column with highest standard deviation is \",Col_name[index_sd], \" and highest standard deviation is\", max_sd)\n",
    "\n",
    "\n",
    "#Mean\n",
    "\n",
    "Mean=[]\n",
    "for i in Matrix:\n",
    "    Mean.append(sum(i)/5)\n",
    "    \n",
    "    \n",
    "low_mean = min(Mean)\n",
    "\n",
    "for i in range(20):\n",
    "    if Mean[i]==low_mean:\n",
    "        index_mean = i\n",
    "        break\n",
    "        \n",
    "print(\"Row with least mean is \", index_mean, \" and the least mean is \", low_mean)"
   ]
  },
  {
   "cell_type": "markdown",
   "id": "807fcc43",
   "metadata": {},
   "source": [
    "# Question11"
   ]
  },
  {
   "cell_type": "code",
   "execution_count": 33,
   "id": "354a5bbf",
   "metadata": {},
   "outputs": [
    {
     "name": "stdout",
     "output_type": "stream",
     "text": [
      "           a         b         c         d         e         f\n",
      "0   1.819470  1.789512  1.657103  1.619294  1.576077  8.461455\n",
      "1   1.231737  1.942329  1.958314  1.457695  1.025873  7.615947\n",
      "2   1.265548  1.128507  1.577332  1.819396  1.822422  7.613206\n",
      "3   1.694142  1.100114  1.996094  1.926917  1.371393  8.088661\n",
      "4   1.844042  1.704020  1.285905  1.126911  1.757285  7.718163\n",
      "5   1.449821  1.754739  1.250576  1.561450  1.817621  7.834207\n",
      "6   1.721080  1.800024  1.914901  1.111252  1.175422  7.722680\n",
      "7   1.793952  1.763580  1.653706  1.263177  1.482847  7.957263\n",
      "8   1.855037  1.073728  1.191612  1.864446  1.287167  7.271989\n",
      "9   1.797925  1.970767  1.431909  1.280554  1.193439  7.674594\n",
      "10  1.835966  1.217388  1.850225  1.332895  1.637566  7.874038\n",
      "11  1.449743  1.922353  1.253629  1.405973  1.608333  7.640031\n",
      "12  1.347112  1.884849  1.536919  1.775684  1.819447  8.364011\n",
      "13  1.983798  1.544557  1.445549  1.355980  1.931941  8.261826\n",
      "14  1.466927  1.422469  1.043458  1.369723  1.988396  7.290972\n",
      "15  1.602519  1.655490  1.727710  1.732367  1.450213  8.168299\n",
      "16  1.956581  1.785426  1.702512  1.533328  1.223619  8.201466\n",
      "17  1.452669  1.007549  1.896349  1.243922  1.559731  7.160219\n",
      "18  1.939316  1.501221  1.131022  1.627210  1.650587  7.849355\n",
      "19  1.250189  1.528455  1.632620  1.865725  1.118523  7.395512\n",
      "           a         b         c         d         e         f    g\n",
      "0   1.819470  1.789512  1.657103  1.619294  1.576077  8.461455  GT8\n",
      "1   1.231737  1.942329  1.958314  1.457695  1.025873  7.615947  LT8\n",
      "2   1.265548  1.128507  1.577332  1.819396  1.822422  7.613206  LT8\n",
      "3   1.694142  1.100114  1.996094  1.926917  1.371393  8.088661  GT8\n",
      "4   1.844042  1.704020  1.285905  1.126911  1.757285  7.718163  LT8\n",
      "5   1.449821  1.754739  1.250576  1.561450  1.817621  7.834207  LT8\n",
      "6   1.721080  1.800024  1.914901  1.111252  1.175422  7.722680  LT8\n",
      "7   1.793952  1.763580  1.653706  1.263177  1.482847  7.957263  LT8\n",
      "8   1.855037  1.073728  1.191612  1.864446  1.287167  7.271989  LT8\n",
      "9   1.797925  1.970767  1.431909  1.280554  1.193439  7.674594  LT8\n",
      "10  1.835966  1.217388  1.850225  1.332895  1.637566  7.874038  LT8\n",
      "11  1.449743  1.922353  1.253629  1.405973  1.608333  7.640031  LT8\n",
      "12  1.347112  1.884849  1.536919  1.775684  1.819447  8.364011  GT8\n",
      "13  1.983798  1.544557  1.445549  1.355980  1.931941  8.261826  GT8\n",
      "14  1.466927  1.422469  1.043458  1.369723  1.988396  7.290972  LT8\n",
      "15  1.602519  1.655490  1.727710  1.732367  1.450213  8.168299  GT8\n",
      "16  1.956581  1.785426  1.702512  1.533328  1.223619  8.201466  GT8\n",
      "17  1.452669  1.007549  1.896349  1.243922  1.559731  7.160219  LT8\n",
      "18  1.939316  1.501221  1.131022  1.627210  1.650587  7.849355  LT8\n",
      "19  1.250189  1.528455  1.632620  1.865725  1.118523  7.395512  LT8\n"
     ]
    }
   ],
   "source": [
    "avg =[]\n",
    "for i in range(m):\n",
    "    add = sum(Matrix[i])\n",
    "    #print(add)\n",
    "    avg.append(add)\n",
    "    \n",
    "#print(avg)\n",
    "#df1 = pd.DataFrame(Mat, columns= [\"a\", \"b\", \"c\", \"d\", \"e\", \"f\"])\n",
    "df1 = pd.DataFrame(avg, columns= [\"f\"])\n",
    "df2 = pd.concat([df, df1], axis=1)\n",
    "\n",
    "#print(df2)\n",
    "\n",
    "LGT8=[]\n",
    "for i in avg:\n",
    "    if (i<8):\n",
    "        LGT8.append(\"LT8\")\n",
    "    else:\n",
    "        LGT8.append(\"GT8\")\n",
    "        \n",
    "df3 = pd.concat([df2, pd.DataFrame(LGT8, columns= [\"g\"])], axis=1)\n",
    "print(df2)\n",
    "print(df3)\n",
    "#print(pd.concat([df, df3], axis=1))"
   ]
  },
  {
   "cell_type": "code",
   "execution_count": 34,
   "id": "d71afd90",
   "metadata": {},
   "outputs": [
    {
     "name": "stdout",
     "output_type": "stream",
     "text": [
      "[7.61594748 7.61320558 7.71816274 7.8342066  7.72267978 7.95726261\n",
      " 7.27198871 7.67459407 7.87403836 7.64003115 7.29097238 7.16021897\n",
      " 7.84935486 7.39551197]\n",
      "[8.461455   8.08866061 8.36401072 8.26182575 8.16829898 8.20146597]\n",
      "Standard deviation of rows with LT8 =  0.23774003937052887\n",
      "Standard deviation of rows with GT8 =  0.12420693534715285\n"
     ]
    }
   ],
   "source": [
    "#standard deviation\n",
    "\n",
    "LT8 =[]\n",
    "GT8 =[]\n",
    "\n",
    "for i in range(m):\n",
    "    if  LGT8[i] == \"LT8\":\n",
    "        LT8.append(float(avg[i]))\n",
    "    else:\n",
    "        GT8.append(float(avg[i]))\n",
    "\n",
    "LT8 = np.array(LT8)\n",
    "GT8 = np.array(GT8)\n",
    "print(LT8)\n",
    "print(GT8)\n",
    "print(\"Standard deviation of rows with LT8 = \", np.std(LT8))\n",
    "print(\"Standard deviation of rows with GT8 = \", np.std(GT8))\n",
    "\n",
    "#print(Matrix.flatten())"
   ]
  },
  {
   "cell_type": "markdown",
   "id": "90d22f85",
   "metadata": {},
   "source": [
    "# Question12"
   ]
  },
  {
   "cell_type": "markdown",
   "id": "3e80b905",
   "metadata": {},
   "source": [
    "## Broadcasting:\n",
    "    Broadcasting is used to stretch/manipulate the size of the array to perform a particluar operation (addition or substraction). \n",
    "    \n",
    "    Here we add a single element to a 2 X 2. This single element 10 is reshaped in such a way that we can add it to the given matrix. "
   ]
  },
  {
   "cell_type": "code",
   "execution_count": 35,
   "id": "598bce51",
   "metadata": {},
   "outputs": [
    {
     "name": "stdout",
     "output_type": "stream",
     "text": [
      "[[48 63]\n",
      " [46 39]]\n",
      "[[58 73]\n",
      " [56 49]]\n"
     ]
    }
   ],
   "source": [
    "import numpy as np\n",
    "import random\n",
    "A = np.array([[random.randint(0, 100) for j in range(2)] for i in range(2)])\n",
    "print(A)\n",
    "print(A + 10)"
   ]
  },
  {
   "cell_type": "code",
   "execution_count": 36,
   "id": "7066c70b",
   "metadata": {},
   "outputs": [
    {
     "name": "stdout",
     "output_type": "stream",
     "text": [
      "4\n"
     ]
    }
   ],
   "source": [
    "A = np.array([[1,2]])\n",
    "\n",
    "B = np.array([[1,2],[5,6]])\n",
    "\n",
    "A+B\n",
    "print(B.size)"
   ]
  },
  {
   "cell_type": "markdown",
   "id": "40ac0573",
   "metadata": {},
   "source": [
    "# Question13"
   ]
  },
  {
   "cell_type": "code",
   "execution_count": 37,
   "id": "db595527",
   "metadata": {},
   "outputs": [
    {
     "name": "stdout",
     "output_type": "stream",
     "text": [
      "[[[3, 5], [1, 0]], [[-7, 4], [0, -4]], [[9, 5], [10, 5]]]\n",
      "inbuilt =  4\n",
      "manual =  4\n"
     ]
    }
   ],
   "source": [
    "def argmin_compute(Matrix):\n",
    "    Matrix = np.array(Matrix)\n",
    "    Onedim_matrix = Matrix.flatten()\n",
    "    mini = Onedim_matrix[0]\n",
    "    index =0\n",
    "    for i in range(len(Onedim_matrix)):\n",
    "        if mini > Onedim_matrix[i]:\n",
    "            mini = Onedim_matrix[i]\n",
    "            index = i\n",
    "            \n",
    "    return index\n",
    "\n",
    "Matrix = [[[3, 5], [1, 0]], [[-7, 4], [0, -4]], [[9, 5], [10, 5]]]\n",
    "print(Matrix)\n",
    "mini_inbuilt = np.argmin(Matrix)\n",
    "print(\"inbuilt = \",mini_inbuilt)\n",
    "print(\"manual = \",argmin_compute(Matrix))"
   ]
  }
 ],
 "metadata": {
  "kernelspec": {
   "display_name": "Python 3 (ipykernel)",
   "language": "python",
   "name": "python3"
  },
  "language_info": {
   "codemirror_mode": {
    "name": "ipython",
    "version": 3
   },
   "file_extension": ".py",
   "mimetype": "text/x-python",
   "name": "python",
   "nbconvert_exporter": "python",
   "pygments_lexer": "ipython3",
   "version": "3.10.11"
  }
 },
 "nbformat": 4,
 "nbformat_minor": 5
}
